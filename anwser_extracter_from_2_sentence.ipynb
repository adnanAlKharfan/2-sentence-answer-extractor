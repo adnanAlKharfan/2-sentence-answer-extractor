{
  "nbformat": 4,
  "nbformat_minor": 0,
  "metadata": {
    "colab": {
      "name": "anwser_extracter_from_2_sentence.ipynb",
      "provenance": [],
      "collapsed_sections": []
    },
    "kernelspec": {
      "name": "python3",
      "display_name": "Python 3"
    },
    "language_info": {
      "name": "python"
    }
  },
  "cells": [
    {
      "cell_type": "code",
      "execution_count": null,
      "metadata": {
        "colab": {
          "base_uri": "https://localhost:8080/"
        },
        "id": "D-HcJgSsPC6r",
        "outputId": "88e1442c-e1f4-4363-b4f7-64ca8b41e0e9"
      },
      "outputs": [
        {
          "output_type": "stream",
          "name": "stdout",
          "text": [
            "--2022-07-15 14:36:42--  https://s3.amazonaws.com/text-datasets/babi_tasks_1-20_v1-2.tar.gz\n",
            "Resolving s3.amazonaws.com (s3.amazonaws.com)... 54.231.171.72\n",
            "Connecting to s3.amazonaws.com (s3.amazonaws.com)|54.231.171.72|:443... connected.\n",
            "HTTP request sent, awaiting response... 200 OK\n",
            "Length: 11745123 (11M) [application/x-gzip]\n",
            "Saving to: ‘babi_tasks_1-20_v1-2.tar.gz’\n",
            "\n",
            "babi_tasks_1-20_v1- 100%[===================>]  11.20M  6.07MB/s    in 1.8s    \n",
            "\n",
            "2022-07-15 14:36:44 (6.07 MB/s) - ‘babi_tasks_1-20_v1-2.tar.gz’ saved [11745123/11745123]\n",
            "\n",
            "tasks_1-20_v1-2/\n",
            "tasks_1-20_v1-2/en-10k/\n",
            "tasks_1-20_v1-2/en-10k/qa12_conjunction_train.txt\n",
            "tasks_1-20_v1-2/en-10k/qa11_basic-coreference_test.txt\n",
            "tasks_1-20_v1-2/en-10k/qa4_two-arg-relations_train.txt\n",
            "tasks_1-20_v1-2/en-10k/qa20_agents-motivations_train.txt\n",
            "tasks_1-20_v1-2/en-10k/qa18_size-reasoning_test.txt\n",
            "tasks_1-20_v1-2/en-10k/qa5_three-arg-relations_test.txt\n",
            "tasks_1-20_v1-2/en-10k/qa12_conjunction_test.txt\n",
            "tasks_1-20_v1-2/en-10k/qa2_two-supporting-facts_test.txt\n",
            "tasks_1-20_v1-2/en-10k/qa17_positional-reasoning_test.txt\n",
            "tasks_1-20_v1-2/en-10k/qa14_time-reasoning_test.txt\n",
            "tasks_1-20_v1-2/en-10k/qa6_yes-no-questions_test.txt\n",
            "tasks_1-20_v1-2/en-10k/qa17_positional-reasoning_train.txt\n",
            "tasks_1-20_v1-2/en-10k/qa15_basic-deduction_test.txt\n",
            "tasks_1-20_v1-2/en-10k/qa13_compound-coreference_train.txt\n",
            "tasks_1-20_v1-2/en-10k/qa3_three-supporting-facts_test.txt\n",
            "tasks_1-20_v1-2/en-10k/qa13_compound-coreference_test.txt\n",
            "tasks_1-20_v1-2/en-10k/qa15_basic-deduction_train.txt\n",
            "tasks_1-20_v1-2/en-10k/qa7_counting_train.txt\n",
            "tasks_1-20_v1-2/en-10k/qa11_basic-coreference_train.txt\n",
            "tasks_1-20_v1-2/en-10k/qa16_basic-induction_test.txt\n",
            "tasks_1-20_v1-2/en-10k/qa20_agents-motivations_test.txt\n",
            "tasks_1-20_v1-2/en-10k/qa8_lists-sets_test.txt\n",
            "tasks_1-20_v1-2/en-10k/qa19_path-finding_train.txt\n",
            "tasks_1-20_v1-2/en-10k/qa4_two-arg-relations_test.txt\n",
            "tasks_1-20_v1-2/en-10k/qa7_counting_test.txt\n",
            "tasks_1-20_v1-2/en-10k/qa16_basic-induction_train.txt\n",
            "tasks_1-20_v1-2/en-10k/qa10_indefinite-knowledge_train.txt\n",
            "tasks_1-20_v1-2/en-10k/qa9_simple-negation_test.txt\n",
            "tasks_1-20_v1-2/en-10k/qa18_size-reasoning_train.txt\n",
            "tasks_1-20_v1-2/en-10k/qa2_two-supporting-facts_train.txt\n",
            "tasks_1-20_v1-2/en-10k/qa5_three-arg-relations_train.txt\n",
            "tasks_1-20_v1-2/en-10k/qa3_three-supporting-facts_train.txt\n",
            "tasks_1-20_v1-2/en-10k/qa9_simple-negation_train.txt\n",
            "tasks_1-20_v1-2/en-10k/qa10_indefinite-knowledge_test.txt\n",
            "tasks_1-20_v1-2/en-10k/qa1_single-supporting-fact_test.txt\n",
            "tasks_1-20_v1-2/en-10k/qa19_path-finding_test.txt\n",
            "tasks_1-20_v1-2/en-10k/qa14_time-reasoning_train.txt\n",
            "tasks_1-20_v1-2/en-10k/qa8_lists-sets_train.txt\n",
            "tasks_1-20_v1-2/en-10k/qa6_yes-no-questions_train.txt\n",
            "tasks_1-20_v1-2/en-10k/qa1_single-supporting-fact_train.txt\n",
            "tasks_1-20_v1-2/LICENSE.txt\n",
            "tasks_1-20_v1-2/shuffled/\n",
            "tasks_1-20_v1-2/shuffled/qa12_conjunction_train.txt\n",
            "tasks_1-20_v1-2/shuffled/qa11_basic-coreference_test.txt\n",
            "tasks_1-20_v1-2/shuffled/qa4_two-arg-relations_train.txt\n",
            "tasks_1-20_v1-2/shuffled/qa20_agents-motivations_train.txt\n",
            "tasks_1-20_v1-2/shuffled/qa18_size-reasoning_test.txt\n",
            "tasks_1-20_v1-2/shuffled/qa5_three-arg-relations_test.txt\n",
            "tasks_1-20_v1-2/shuffled/qa12_conjunction_test.txt\n",
            "tasks_1-20_v1-2/shuffled/qa2_two-supporting-facts_test.txt\n",
            "tasks_1-20_v1-2/shuffled/qa17_positional-reasoning_test.txt\n",
            "tasks_1-20_v1-2/shuffled/qa14_time-reasoning_test.txt\n",
            "tasks_1-20_v1-2/shuffled/qa6_yes-no-questions_test.txt\n",
            "tasks_1-20_v1-2/shuffled/qa17_positional-reasoning_train.txt\n",
            "tasks_1-20_v1-2/shuffled/qa15_basic-deduction_test.txt\n",
            "tasks_1-20_v1-2/shuffled/qa13_compound-coreference_train.txt\n",
            "tasks_1-20_v1-2/shuffled/qa3_three-supporting-facts_test.txt\n",
            "tasks_1-20_v1-2/shuffled/qa13_compound-coreference_test.txt\n",
            "tasks_1-20_v1-2/shuffled/qa15_basic-deduction_train.txt\n",
            "tasks_1-20_v1-2/shuffled/qa7_counting_train.txt\n",
            "tasks_1-20_v1-2/shuffled/qa11_basic-coreference_train.txt\n",
            "tasks_1-20_v1-2/shuffled/qa16_basic-induction_test.txt\n",
            "tasks_1-20_v1-2/shuffled/qa20_agents-motivations_test.txt\n",
            "tasks_1-20_v1-2/shuffled/qa8_lists-sets_test.txt\n",
            "tasks_1-20_v1-2/shuffled/qa19_path-finding_train.txt\n",
            "tasks_1-20_v1-2/shuffled/qa4_two-arg-relations_test.txt\n",
            "tasks_1-20_v1-2/shuffled/qa7_counting_test.txt\n",
            "tasks_1-20_v1-2/shuffled/qa16_basic-induction_train.txt\n",
            "tasks_1-20_v1-2/shuffled/qa10_indefinite-knowledge_train.txt\n",
            "tasks_1-20_v1-2/shuffled/qa9_simple-negation_test.txt\n",
            "tasks_1-20_v1-2/shuffled/qa18_size-reasoning_train.txt\n",
            "tasks_1-20_v1-2/shuffled/qa2_two-supporting-facts_train.txt\n",
            "tasks_1-20_v1-2/shuffled/qa5_three-arg-relations_train.txt\n",
            "tasks_1-20_v1-2/shuffled/qa3_three-supporting-facts_train.txt\n",
            "tasks_1-20_v1-2/shuffled/qa9_simple-negation_train.txt\n",
            "tasks_1-20_v1-2/shuffled/qa10_indefinite-knowledge_test.txt\n",
            "tasks_1-20_v1-2/shuffled/qa1_single-supporting-fact_test.txt\n",
            "tasks_1-20_v1-2/shuffled/qa19_path-finding_test.txt\n",
            "tasks_1-20_v1-2/shuffled/qa14_time-reasoning_train.txt\n",
            "tasks_1-20_v1-2/shuffled/qa8_lists-sets_train.txt\n",
            "tasks_1-20_v1-2/shuffled/qa6_yes-no-questions_train.txt\n",
            "tasks_1-20_v1-2/shuffled/qa1_single-supporting-fact_train.txt\n",
            "tasks_1-20_v1-2/README.txt\n",
            "tasks_1-20_v1-2/hn-10k/\n",
            "tasks_1-20_v1-2/hn-10k/qa12_conjunction_train.txt\n",
            "tasks_1-20_v1-2/hn-10k/qa11_basic-coreference_test.txt\n",
            "tasks_1-20_v1-2/hn-10k/qa4_two-arg-relations_train.txt\n",
            "tasks_1-20_v1-2/hn-10k/qa20_agents-motivations_train.txt\n",
            "tasks_1-20_v1-2/hn-10k/qa18_size-reasoning_test.txt\n",
            "tasks_1-20_v1-2/hn-10k/qa5_three-arg-relations_test.txt\n",
            "tasks_1-20_v1-2/hn-10k/qa12_conjunction_test.txt\n",
            "tasks_1-20_v1-2/hn-10k/qa2_two-supporting-facts_test.txt\n",
            "tasks_1-20_v1-2/hn-10k/qa17_positional-reasoning_test.txt\n",
            "tasks_1-20_v1-2/hn-10k/qa14_time-reasoning_test.txt\n",
            "tasks_1-20_v1-2/hn-10k/qa6_yes-no-questions_test.txt\n",
            "tasks_1-20_v1-2/hn-10k/qa17_positional-reasoning_train.txt\n",
            "tasks_1-20_v1-2/hn-10k/qa15_basic-deduction_test.txt\n",
            "tasks_1-20_v1-2/hn-10k/qa13_compound-coreference_train.txt\n",
            "tasks_1-20_v1-2/hn-10k/qa3_three-supporting-facts_test.txt\n",
            "tasks_1-20_v1-2/hn-10k/qa13_compound-coreference_test.txt\n",
            "tasks_1-20_v1-2/hn-10k/qa15_basic-deduction_train.txt\n",
            "tasks_1-20_v1-2/hn-10k/qa7_counting_train.txt\n",
            "tasks_1-20_v1-2/hn-10k/qa11_basic-coreference_train.txt\n",
            "tasks_1-20_v1-2/hn-10k/qa16_basic-induction_test.txt\n",
            "tasks_1-20_v1-2/hn-10k/qa20_agents-motivations_test.txt\n",
            "tasks_1-20_v1-2/hn-10k/qa8_lists-sets_test.txt\n",
            "tasks_1-20_v1-2/hn-10k/qa19_path-finding_train.txt\n",
            "tasks_1-20_v1-2/hn-10k/qa4_two-arg-relations_test.txt\n",
            "tasks_1-20_v1-2/hn-10k/qa7_counting_test.txt\n",
            "tasks_1-20_v1-2/hn-10k/qa16_basic-induction_train.txt\n",
            "tasks_1-20_v1-2/hn-10k/qa10_indefinite-knowledge_train.txt\n",
            "tasks_1-20_v1-2/hn-10k/qa9_simple-negation_test.txt\n",
            "tasks_1-20_v1-2/hn-10k/qa18_size-reasoning_train.txt\n",
            "tasks_1-20_v1-2/hn-10k/qa2_two-supporting-facts_train.txt\n",
            "tasks_1-20_v1-2/hn-10k/qa5_three-arg-relations_train.txt\n",
            "tasks_1-20_v1-2/hn-10k/qa3_three-supporting-facts_train.txt\n",
            "tasks_1-20_v1-2/hn-10k/qa9_simple-negation_train.txt\n",
            "tasks_1-20_v1-2/hn-10k/qa10_indefinite-knowledge_test.txt\n",
            "tasks_1-20_v1-2/hn-10k/qa1_single-supporting-fact_test.txt\n",
            "tasks_1-20_v1-2/hn-10k/qa19_path-finding_test.txt\n",
            "tasks_1-20_v1-2/hn-10k/qa14_time-reasoning_train.txt\n",
            "tasks_1-20_v1-2/hn-10k/qa8_lists-sets_train.txt\n",
            "tasks_1-20_v1-2/hn-10k/qa6_yes-no-questions_train.txt\n",
            "tasks_1-20_v1-2/hn-10k/qa1_single-supporting-fact_train.txt\n",
            "tasks_1-20_v1-2/hn/\n",
            "tasks_1-20_v1-2/hn/qa12_conjunction_train.txt\n",
            "tasks_1-20_v1-2/hn/qa11_basic-coreference_test.txt\n",
            "tasks_1-20_v1-2/hn/qa4_two-arg-relations_train.txt\n",
            "tasks_1-20_v1-2/hn/qa20_agents-motivations_train.txt\n",
            "tasks_1-20_v1-2/hn/qa18_size-reasoning_test.txt\n",
            "tasks_1-20_v1-2/hn/qa5_three-arg-relations_test.txt\n",
            "tasks_1-20_v1-2/hn/qa12_conjunction_test.txt\n",
            "tasks_1-20_v1-2/hn/qa2_two-supporting-facts_test.txt\n",
            "tasks_1-20_v1-2/hn/qa17_positional-reasoning_test.txt\n",
            "tasks_1-20_v1-2/hn/qa14_time-reasoning_test.txt\n",
            "tasks_1-20_v1-2/hn/qa6_yes-no-questions_test.txt\n",
            "tasks_1-20_v1-2/hn/qa17_positional-reasoning_train.txt\n",
            "tasks_1-20_v1-2/hn/qa15_basic-deduction_test.txt\n",
            "tasks_1-20_v1-2/hn/qa13_compound-coreference_train.txt\n",
            "tasks_1-20_v1-2/hn/qa3_three-supporting-facts_test.txt\n",
            "tasks_1-20_v1-2/hn/qa13_compound-coreference_test.txt\n",
            "tasks_1-20_v1-2/hn/qa15_basic-deduction_train.txt\n",
            "tasks_1-20_v1-2/hn/qa7_counting_train.txt\n",
            "tasks_1-20_v1-2/hn/qa11_basic-coreference_train.txt\n",
            "tasks_1-20_v1-2/hn/qa16_basic-induction_test.txt\n",
            "tasks_1-20_v1-2/hn/qa20_agents-motivations_test.txt\n",
            "tasks_1-20_v1-2/hn/qa8_lists-sets_test.txt\n",
            "tasks_1-20_v1-2/hn/qa19_path-finding_train.txt\n",
            "tasks_1-20_v1-2/hn/qa4_two-arg-relations_test.txt\n",
            "tasks_1-20_v1-2/hn/qa7_counting_test.txt\n",
            "tasks_1-20_v1-2/hn/qa16_basic-induction_train.txt\n",
            "tasks_1-20_v1-2/hn/qa10_indefinite-knowledge_train.txt\n",
            "tasks_1-20_v1-2/hn/qa9_simple-negation_test.txt\n",
            "tasks_1-20_v1-2/hn/qa18_size-reasoning_train.txt\n",
            "tasks_1-20_v1-2/hn/qa2_two-supporting-facts_train.txt\n",
            "tasks_1-20_v1-2/hn/qa5_three-arg-relations_train.txt\n",
            "tasks_1-20_v1-2/hn/qa3_three-supporting-facts_train.txt\n",
            "tasks_1-20_v1-2/hn/qa9_simple-negation_train.txt\n",
            "tasks_1-20_v1-2/hn/qa10_indefinite-knowledge_test.txt\n",
            "tasks_1-20_v1-2/hn/qa1_single-supporting-fact_test.txt\n",
            "tasks_1-20_v1-2/hn/qa19_path-finding_test.txt\n",
            "tasks_1-20_v1-2/hn/qa14_time-reasoning_train.txt\n",
            "tasks_1-20_v1-2/hn/qa8_lists-sets_train.txt\n",
            "tasks_1-20_v1-2/hn/qa6_yes-no-questions_train.txt\n",
            "tasks_1-20_v1-2/hn/qa1_single-supporting-fact_train.txt\n",
            "tasks_1-20_v1-2/shuffled-10k/\n",
            "tasks_1-20_v1-2/shuffled-10k/qa12_conjunction_train.txt\n",
            "tasks_1-20_v1-2/shuffled-10k/qa11_basic-coreference_test.txt\n",
            "tasks_1-20_v1-2/shuffled-10k/qa4_two-arg-relations_train.txt\n",
            "tasks_1-20_v1-2/shuffled-10k/qa20_agents-motivations_train.txt\n",
            "tasks_1-20_v1-2/shuffled-10k/qa18_size-reasoning_test.txt\n",
            "tasks_1-20_v1-2/shuffled-10k/qa5_three-arg-relations_test.txt\n",
            "tasks_1-20_v1-2/shuffled-10k/qa12_conjunction_test.txt\n",
            "tasks_1-20_v1-2/shuffled-10k/qa2_two-supporting-facts_test.txt\n",
            "tasks_1-20_v1-2/shuffled-10k/qa17_positional-reasoning_test.txt\n",
            "tasks_1-20_v1-2/shuffled-10k/qa14_time-reasoning_test.txt\n",
            "tasks_1-20_v1-2/shuffled-10k/qa6_yes-no-questions_test.txt\n",
            "tasks_1-20_v1-2/shuffled-10k/qa17_positional-reasoning_train.txt\n",
            "tasks_1-20_v1-2/shuffled-10k/qa15_basic-deduction_test.txt\n",
            "tasks_1-20_v1-2/shuffled-10k/qa13_compound-coreference_train.txt\n",
            "tasks_1-20_v1-2/shuffled-10k/qa3_three-supporting-facts_test.txt\n",
            "tasks_1-20_v1-2/shuffled-10k/qa13_compound-coreference_test.txt\n",
            "tasks_1-20_v1-2/shuffled-10k/qa15_basic-deduction_train.txt\n",
            "tasks_1-20_v1-2/shuffled-10k/qa7_counting_train.txt\n",
            "tasks_1-20_v1-2/shuffled-10k/qa11_basic-coreference_train.txt\n",
            "tasks_1-20_v1-2/shuffled-10k/qa16_basic-induction_test.txt\n",
            "tasks_1-20_v1-2/shuffled-10k/qa20_agents-motivations_test.txt\n",
            "tasks_1-20_v1-2/shuffled-10k/qa8_lists-sets_test.txt\n",
            "tasks_1-20_v1-2/shuffled-10k/qa19_path-finding_train.txt\n",
            "tasks_1-20_v1-2/shuffled-10k/qa4_two-arg-relations_test.txt\n",
            "tasks_1-20_v1-2/shuffled-10k/qa7_counting_test.txt\n",
            "tasks_1-20_v1-2/shuffled-10k/qa16_basic-induction_train.txt\n",
            "tasks_1-20_v1-2/shuffled-10k/qa10_indefinite-knowledge_train.txt\n",
            "tasks_1-20_v1-2/shuffled-10k/qa9_simple-negation_test.txt\n",
            "tasks_1-20_v1-2/shuffled-10k/qa18_size-reasoning_train.txt\n",
            "tasks_1-20_v1-2/shuffled-10k/qa2_two-supporting-facts_train.txt\n",
            "tasks_1-20_v1-2/shuffled-10k/qa5_three-arg-relations_train.txt\n",
            "tasks_1-20_v1-2/shuffled-10k/qa3_three-supporting-facts_train.txt\n",
            "tasks_1-20_v1-2/shuffled-10k/qa9_simple-negation_train.txt\n",
            "tasks_1-20_v1-2/shuffled-10k/qa10_indefinite-knowledge_test.txt\n",
            "tasks_1-20_v1-2/shuffled-10k/qa1_single-supporting-fact_test.txt\n",
            "tasks_1-20_v1-2/shuffled-10k/qa19_path-finding_test.txt\n",
            "tasks_1-20_v1-2/shuffled-10k/qa14_time-reasoning_train.txt\n",
            "tasks_1-20_v1-2/shuffled-10k/qa8_lists-sets_train.txt\n",
            "tasks_1-20_v1-2/shuffled-10k/qa6_yes-no-questions_train.txt\n",
            "tasks_1-20_v1-2/shuffled-10k/qa1_single-supporting-fact_train.txt\n",
            "tasks_1-20_v1-2/en/\n",
            "tasks_1-20_v1-2/en/qa12_conjunction_train.txt\n",
            "tasks_1-20_v1-2/en/qa11_basic-coreference_test.txt\n",
            "tasks_1-20_v1-2/en/qa4_two-arg-relations_train.txt\n",
            "tasks_1-20_v1-2/en/qa20_agents-motivations_train.txt\n",
            "tasks_1-20_v1-2/en/qa18_size-reasoning_test.txt\n",
            "tasks_1-20_v1-2/en/qa5_three-arg-relations_test.txt\n",
            "tasks_1-20_v1-2/en/qa12_conjunction_test.txt\n",
            "tasks_1-20_v1-2/en/qa2_two-supporting-facts_test.txt\n",
            "tasks_1-20_v1-2/en/qa17_positional-reasoning_test.txt\n",
            "tasks_1-20_v1-2/en/qa14_time-reasoning_test.txt\n",
            "tasks_1-20_v1-2/en/qa6_yes-no-questions_test.txt\n",
            "tasks_1-20_v1-2/en/qa17_positional-reasoning_train.txt\n",
            "tasks_1-20_v1-2/en/qa15_basic-deduction_test.txt\n",
            "tasks_1-20_v1-2/en/qa13_compound-coreference_train.txt\n",
            "tasks_1-20_v1-2/en/qa3_three-supporting-facts_test.txt\n",
            "tasks_1-20_v1-2/en/qa13_compound-coreference_test.txt\n",
            "tasks_1-20_v1-2/en/qa15_basic-deduction_train.txt\n",
            "tasks_1-20_v1-2/en/qa7_counting_train.txt\n",
            "tasks_1-20_v1-2/en/qa11_basic-coreference_train.txt\n",
            "tasks_1-20_v1-2/en/qa16_basic-induction_test.txt\n",
            "tasks_1-20_v1-2/en/qa20_agents-motivations_test.txt\n",
            "tasks_1-20_v1-2/en/qa8_lists-sets_test.txt\n",
            "tasks_1-20_v1-2/en/qa19_path-finding_train.txt\n",
            "tasks_1-20_v1-2/en/qa4_two-arg-relations_test.txt\n",
            "tasks_1-20_v1-2/en/qa7_counting_test.txt\n",
            "tasks_1-20_v1-2/en/qa16_basic-induction_train.txt\n",
            "tasks_1-20_v1-2/en/qa10_indefinite-knowledge_train.txt\n",
            "tasks_1-20_v1-2/en/qa9_simple-negation_test.txt\n",
            "tasks_1-20_v1-2/en/qa18_size-reasoning_train.txt\n",
            "tasks_1-20_v1-2/en/qa2_two-supporting-facts_train.txt\n",
            "tasks_1-20_v1-2/en/qa5_three-arg-relations_train.txt\n",
            "tasks_1-20_v1-2/en/qa3_three-supporting-facts_train.txt\n",
            "tasks_1-20_v1-2/en/qa9_simple-negation_train.txt\n",
            "tasks_1-20_v1-2/en/qa10_indefinite-knowledge_test.txt\n",
            "tasks_1-20_v1-2/en/qa1_single-supporting-fact_test.txt\n",
            "tasks_1-20_v1-2/en/qa19_path-finding_test.txt\n",
            "tasks_1-20_v1-2/en/qa14_time-reasoning_train.txt\n",
            "tasks_1-20_v1-2/en/qa8_lists-sets_train.txt\n",
            "tasks_1-20_v1-2/en/qa6_yes-no-questions_train.txt\n",
            "tasks_1-20_v1-2/en/qa1_single-supporting-fact_train.txt\n"
          ]
        }
      ],
      "source": [
        "!wget https://s3.amazonaws.com/text-datasets/babi_tasks_1-20_v1-2.tar.gz\n",
        "!tar -xzvf babi_tasks_1-20_v1-2.tar.gz"
      ]
    },
    {
      "cell_type": "code",
      "source": [
        "import numpy as np\n",
        "import keras\n",
        "from keras.preprocessing.text import Tokenizer\n",
        "from keras.preprocessing.sequence import pad_sequences\n",
        "from keras.utils.np_utils import to_categorical\n",
        "import matplotlib.pyplot as plt"
      ],
      "metadata": {
        "id": "LyudwadRPK0c"
      },
      "execution_count": null,
      "outputs": []
    },
    {
      "cell_type": "code",
      "source": [
        "max_vocab=20000\n",
        "emb_dim=15\n",
        "max_sen=2"
      ],
      "metadata": {
        "id": "aeqe5INVQS_8"
      },
      "execution_count": null,
      "outputs": []
    },
    {
      "cell_type": "code",
      "source": [
        "train_set=open(\"./tasks_1-20_v1-2/en/qa1_single-supporting-fact_train.txt\")\n",
        "test_set=open(\"./tasks_1-20_v1-2/en/qa1_single-supporting-fact_test.txt\")"
      ],
      "metadata": {
        "id": "LyqqWYpsQpUj"
      },
      "execution_count": null,
      "outputs": []
    },
    {
      "cell_type": "code",
      "source": [
        "def getting_x_y(data):\n",
        "    first_sen_story=[]\n",
        "    second_sen_story=[]\n",
        "    questions=[]\n",
        "    answers=[]\n",
        "    t=1\n",
        "    for line in data:\n",
        "        line=line[2:]\n",
        "        if t==1:\n",
        "            first_sen_story.append(line)\n",
        "            t+=1\n",
        "        elif t==2:\n",
        "            second_sen_story.append(line)\n",
        "            t+=1\n",
        "        else:\n",
        "            q,a,_=line.split(\"\\t\")\n",
        "            questions.append(q)\n",
        "            answers.append(a)\n",
        "            t=1\n",
        "    return first_sen_story,second_sen_story,questions,answers    \n",
        "   "
      ],
      "metadata": {
        "id": "VDGfsRHtQ-04"
      },
      "execution_count": null,
      "outputs": []
    },
    {
      "cell_type": "code",
      "source": [
        "train_first_sen_story,train_second_sen_story,train_questions,train_answers=getting_x_y(train_set)\n",
        "test_first_sen_story,test_second_sen_story,test_questions,test_answers=getting_x_y(test_set)"
      ],
      "metadata": {
        "id": "jiTqX734RBSx"
      },
      "execution_count": null,
      "outputs": []
    },
    {
      "cell_type": "code",
      "source": [
        "story_tokenizer=Tokenizer(num_words=max_vocab)\n",
        "story_tokenizer.fit_on_texts(train_first_sen_story+train_second_sen_story+test_first_sen_story+test_second_sen_story)\n",
        "train_first_seq_story=story_tokenizer.texts_to_sequences(train_first_sen_story)\n",
        "train_second_seq_story=story_tokenizer.texts_to_sequences(train_second_sen_story)\n",
        "test_first_seq_story=story_tokenizer.texts_to_sequences(test_first_sen_story)\n",
        "test_second_seq_story=story_tokenizer.texts_to_sequences(test_second_sen_story)"
      ],
      "metadata": {
        "id": "X5rfPZLKRD8S"
      },
      "execution_count": null,
      "outputs": []
    },
    {
      "cell_type": "code",
      "source": [
        "max_story_sen_length=max(max(len(s) for s in train_first_seq_story ),max(len(s) for s in train_second_seq_story ),max(len(s) for s in test_first_seq_story ),max(len(s) for s in test_second_seq_story ))"
      ],
      "metadata": {
        "id": "wtfGbs1VRG_2"
      },
      "execution_count": null,
      "outputs": []
    },
    {
      "cell_type": "code",
      "source": [
        "train_first_seq_story=pad_sequences(train_first_seq_story,maxlen =max_story_sen_length,padding = \"post\")\n",
        "train_second_seq_story=pad_sequences(train_second_seq_story,maxlen =max_story_sen_length,padding = \"post\")\n",
        "test_first_seq_story=pad_sequences(test_first_seq_story,maxlen =max_story_sen_length,padding = \"post\")\n",
        "test_second_seq_story=pad_sequences(test_second_seq_story,maxlen =max_story_sen_length,padding = \"post\")"
      ],
      "metadata": {
        "id": "NjmWqOBiRI5-"
      },
      "execution_count": null,
      "outputs": []
    },
    {
      "cell_type": "code",
      "source": [
        "questions_tokenizer=Tokenizer(num_words=max_vocab)\n",
        "questions_tokenizer.fit_on_texts(train_questions+test_questions)\n",
        "train_seq_questions=questions_tokenizer.texts_to_sequences(train_questions)\n",
        "test_seq_questions=questions_tokenizer.texts_to_sequences(test_questions)"
      ],
      "metadata": {
        "id": "IQfJmaKZRKlX"
      },
      "execution_count": null,
      "outputs": []
    },
    {
      "cell_type": "code",
      "source": [
        "max_questions_sen_length=max(max(len(s) for s in train_seq_questions ),max(len(s) for s in test_seq_questions) )"
      ],
      "metadata": {
        "id": "CXBZz-ZBRMJt"
      },
      "execution_count": null,
      "outputs": []
    },
    {
      "cell_type": "code",
      "source": [
        "train_seq_questions=pad_sequences(train_seq_questions,maxlen =max_questions_sen_length,padding = \"post\")\n",
        "\n",
        "test_seq_questions=pad_sequences(test_seq_questions,maxlen =max_questions_sen_length,padding = \"post\")\n",
        "\n"
      ],
      "metadata": {
        "id": "fTpMpooUROTH"
      },
      "execution_count": null,
      "outputs": []
    },
    {
      "cell_type": "code",
      "source": [
        "answers_tokenizer=Tokenizer(num_words=max_vocab)\n",
        "answers_tokenizer.fit_on_texts(train_answers+test_answers)\n",
        "train_seq_answers=answers_tokenizer.texts_to_sequences(train_answers)\n",
        "\n",
        "test_seq_answers=answers_tokenizer.texts_to_sequences(test_answers)\n",
        "max_answers_sen_length=max(max(len(s) for s in train_seq_answers ),max(len(s) for s in test_seq_answers) )"
      ],
      "metadata": {
        "id": "J38CSW_5RU_u"
      },
      "execution_count": null,
      "outputs": []
    },
    {
      "cell_type": "code",
      "source": [
        "train_seq_answers=pad_sequences(train_seq_answers,maxlen =max_answers_sen_length,padding = \"post\")\n",
        "\n",
        "test_seq_answers=pad_sequences(test_seq_answers,maxlen =max_answers_sen_length,padding = \"post\")\n"
      ],
      "metadata": {
        "id": "YFvHAulPRW4F"
      },
      "execution_count": null,
      "outputs": []
    },
    {
      "cell_type": "code",
      "source": [
        "def stack_stories(data1,data2):\n",
        "    data=[]\n",
        "    for i in range(len(data1)):\n",
        "        data.append([data1[i],data2[i]])\n",
        "    return np.asarray(data)   "
      ],
      "metadata": {
        "id": "992Vwx_iRZod"
      },
      "execution_count": null,
      "outputs": []
    },
    {
      "cell_type": "code",
      "source": [
        "train_stories=stack_stories(train_first_seq_story,train_second_seq_story)\n",
        "test_stories=stack_stories(test_first_seq_story,test_second_seq_story)"
      ],
      "metadata": {
        "id": "tau48AmVRbrO"
      },
      "execution_count": null,
      "outputs": []
    },
    {
      "cell_type": "code",
      "source": [
        "word2index=answers_tokenizer.word_index\n",
        "train_seq_answers=to_categorical(train_seq_answers)\n",
        "test_seq_answers=to_categorical(test_seq_answers)"
      ],
      "metadata": {
        "id": "L8n3civVRdpl"
      },
      "execution_count": null,
      "outputs": []
    },
    {
      "cell_type": "code",
      "source": [
        "story_input=keras.layers.Input(shape=(max_sen,max_story_sen_length,))\n",
        "story_emb=keras.layers.Embedding(max_vocab,emb_dim)\n",
        "x=story_emb(story_input)\n",
        "# the output of x is (2,max_story_sen_length,emb_dim)\n",
        "# model=keras.Model(story_input,x)\n",
        "sum_of_two_stories=keras.layers.Lambda(lambda x:keras.backend.sum(x,axis=2))\n",
        "s=sum_of_two_stories(x)\n",
        "# the output of s is (1,max_story_sen_length,emb_dim)\n",
        "# so its only add them\n",
        "# model1=keras.Model(story_input,s)\n",
        "question_input=keras.layers.Input(shape=(max_questions_sen_length,))\n",
        "question_emb=keras.layers.Embedding(max_vocab,emb_dim)\n",
        "output_of_question_emb=question_emb(question_input)\n",
        "sum_question=keras.layers.Lambda(lambda x:keras.backend.sum(x,axis=1))\n",
        "output_of_sum_question=sum_question(output_of_question_emb)\n",
        "# the output of output_of_question_emb is (1,emb_dim)\n",
        "# so its only add them\n",
        "question_reshape=keras.layers.Reshape((1,emb_dim))\n",
        "output_of_question_reshape=question_reshape(output_of_sum_question)\n",
        "# it reshape them into 3 dim  only\n",
        "# model2=keras.Model(question_input,output_of_sum_question)\n",
        "# model3=keras.Model(question_input,output_of_question_reshape)\n",
        "mul_story_with_question=keras.layers.dot([s,output_of_question_reshape],2)\n",
        "flatten_=keras.layers.Flatten()\n",
        "\n",
        "the_output_flatten=flatten_(mul_story_with_question)\n",
        "# model4=keras.Model([story_input,question_input],mul_story_with_question)\n",
        "# model5=keras.Model([story_input,question_input],the_output_flatten)\n",
        "\n",
        "get_story_weights=keras.layers.Activation('softmax')(the_output_flatten)\n",
        "story_weigths=keras.layers.Reshape((max_sen,1))(get_story_weights)\n",
        "debug_model=keras.Model([story_input,question_input],story_weigths)\n",
        "mul_weight_with_story=keras.layers.dot([story_weigths,s],1)\n",
        "flatten2_=keras.layers.Flatten()\n",
        "y=flatten2_(mul_weight_with_story)\n",
        "y=keras.layers.Dense(len(word2index)+1,activation=\"softmax\")(y)\n",
        "model=keras.Model([story_input,question_input],y)"
      ],
      "metadata": {
        "id": "cvpdwCTORgLU"
      },
      "execution_count": null,
      "outputs": []
    },
    {
      "cell_type": "code",
      "source": [
        "model.compile(\"adam\",loss=keras.losses.CategoricalCrossentropy(),metrics=[\"accuracy\"])"
      ],
      "metadata": {
        "id": "BtE77xn0Rh-C"
      },
      "execution_count": null,
      "outputs": []
    },
    {
      "cell_type": "code",
      "source": [
        "history=model.fit([train_stories,train_seq_questions],train_seq_answers,batch_size=32,epochs=50\n",
        "          ,validation_data=([test_stories,test_seq_questions],test_seq_answers))"
      ],
      "metadata": {
        "colab": {
          "base_uri": "https://localhost:8080/"
        },
        "id": "MFNlvWXqRkPz",
        "outputId": "4d552f42-9684-41b9-82d3-74a4a3dffdb1"
      },
      "execution_count": null,
      "outputs": [
        {
          "output_type": "stream",
          "name": "stdout",
          "text": [
            "Epoch 1/50\n",
            "32/32 [==============================] - 2s 17ms/step - loss: 1.9261 - accuracy: 0.2060 - val_loss: 1.8778 - val_accuracy: 0.2980\n",
            "Epoch 2/50\n",
            "32/32 [==============================] - 0s 10ms/step - loss: 1.8460 - accuracy: 0.3340 - val_loss: 1.8125 - val_accuracy: 0.3430\n",
            "Epoch 3/50\n",
            "32/32 [==============================] - 0s 9ms/step - loss: 1.7842 - accuracy: 0.3730 - val_loss: 1.7605 - val_accuracy: 0.3930\n",
            "Epoch 4/50\n",
            "32/32 [==============================] - 0s 10ms/step - loss: 1.7306 - accuracy: 0.4260 - val_loss: 1.7144 - val_accuracy: 0.4170\n",
            "Epoch 5/50\n",
            "32/32 [==============================] - 0s 9ms/step - loss: 1.6806 - accuracy: 0.4440 - val_loss: 1.6718 - val_accuracy: 0.4230\n",
            "Epoch 6/50\n",
            "32/32 [==============================] - 0s 9ms/step - loss: 1.6336 - accuracy: 0.4480 - val_loss: 1.6321 - val_accuracy: 0.4350\n",
            "Epoch 7/50\n",
            "32/32 [==============================] - 0s 10ms/step - loss: 1.5875 - accuracy: 0.4860 - val_loss: 1.5964 - val_accuracy: 0.4530\n",
            "Epoch 8/50\n",
            "32/32 [==============================] - 0s 10ms/step - loss: 1.5439 - accuracy: 0.4920 - val_loss: 1.5580 - val_accuracy: 0.4600\n",
            "Epoch 9/50\n",
            "32/32 [==============================] - 0s 10ms/step - loss: 1.4983 - accuracy: 0.5120 - val_loss: 1.5215 - val_accuracy: 0.4780\n",
            "Epoch 10/50\n",
            "32/32 [==============================] - 0s 10ms/step - loss: 1.4525 - accuracy: 0.5210 - val_loss: 1.4846 - val_accuracy: 0.4970\n",
            "Epoch 11/50\n",
            "32/32 [==============================] - 0s 9ms/step - loss: 1.4075 - accuracy: 0.5590 - val_loss: 1.4431 - val_accuracy: 0.5220\n",
            "Epoch 12/50\n",
            "32/32 [==============================] - 0s 9ms/step - loss: 1.3576 - accuracy: 0.5800 - val_loss: 1.4034 - val_accuracy: 0.5500\n",
            "Epoch 13/50\n",
            "32/32 [==============================] - 0s 11ms/step - loss: 1.3051 - accuracy: 0.6110 - val_loss: 1.3593 - val_accuracy: 0.5730\n",
            "Epoch 14/50\n",
            "32/32 [==============================] - 0s 9ms/step - loss: 1.2532 - accuracy: 0.6200 - val_loss: 1.3126 - val_accuracy: 0.5850\n",
            "Epoch 15/50\n",
            "32/32 [==============================] - 0s 11ms/step - loss: 1.1960 - accuracy: 0.6470 - val_loss: 1.2710 - val_accuracy: 0.5970\n",
            "Epoch 16/50\n",
            "32/32 [==============================] - 0s 10ms/step - loss: 1.1419 - accuracy: 0.6750 - val_loss: 1.2273 - val_accuracy: 0.6100\n",
            "Epoch 17/50\n",
            "32/32 [==============================] - 0s 10ms/step - loss: 1.0908 - accuracy: 0.6870 - val_loss: 1.1875 - val_accuracy: 0.6200\n",
            "Epoch 18/50\n",
            "32/32 [==============================] - 0s 10ms/step - loss: 1.0449 - accuracy: 0.7000 - val_loss: 1.1509 - val_accuracy: 0.6490\n",
            "Epoch 19/50\n",
            "32/32 [==============================] - 0s 10ms/step - loss: 1.0069 - accuracy: 0.7050 - val_loss: 1.1240 - val_accuracy: 0.6600\n",
            "Epoch 20/50\n",
            "32/32 [==============================] - 0s 10ms/step - loss: 0.9732 - accuracy: 0.7100 - val_loss: 1.0985 - val_accuracy: 0.6660\n",
            "Epoch 21/50\n",
            "32/32 [==============================] - 0s 10ms/step - loss: 0.9444 - accuracy: 0.7150 - val_loss: 1.0790 - val_accuracy: 0.6750\n",
            "Epoch 22/50\n",
            "32/32 [==============================] - 0s 10ms/step - loss: 0.9213 - accuracy: 0.7170 - val_loss: 1.0620 - val_accuracy: 0.6760\n",
            "Epoch 23/50\n",
            "32/32 [==============================] - 0s 10ms/step - loss: 0.9028 - accuracy: 0.7210 - val_loss: 1.0482 - val_accuracy: 0.6770\n",
            "Epoch 24/50\n",
            "32/32 [==============================] - 0s 9ms/step - loss: 0.8877 - accuracy: 0.7240 - val_loss: 1.0407 - val_accuracy: 0.6740\n",
            "Epoch 25/50\n",
            "32/32 [==============================] - 0s 9ms/step - loss: 0.8759 - accuracy: 0.7240 - val_loss: 1.0341 - val_accuracy: 0.6740\n",
            "Epoch 26/50\n",
            "32/32 [==============================] - 0s 10ms/step - loss: 0.8655 - accuracy: 0.7260 - val_loss: 1.0271 - val_accuracy: 0.6770\n",
            "Epoch 27/50\n",
            "32/32 [==============================] - 0s 10ms/step - loss: 0.8574 - accuracy: 0.7230 - val_loss: 1.0242 - val_accuracy: 0.6740\n",
            "Epoch 28/50\n",
            "32/32 [==============================] - 0s 11ms/step - loss: 0.8486 - accuracy: 0.7290 - val_loss: 1.0172 - val_accuracy: 0.6750\n",
            "Epoch 29/50\n",
            "32/32 [==============================] - 0s 9ms/step - loss: 0.8423 - accuracy: 0.7320 - val_loss: 1.0138 - val_accuracy: 0.6770\n",
            "Epoch 30/50\n",
            "32/32 [==============================] - 0s 11ms/step - loss: 0.8357 - accuracy: 0.7370 - val_loss: 1.0121 - val_accuracy: 0.6770\n",
            "Epoch 31/50\n",
            "32/32 [==============================] - 0s 10ms/step - loss: 0.8312 - accuracy: 0.7350 - val_loss: 1.0086 - val_accuracy: 0.6770\n",
            "Epoch 32/50\n",
            "32/32 [==============================] - 0s 10ms/step - loss: 0.8277 - accuracy: 0.7370 - val_loss: 1.0071 - val_accuracy: 0.6730\n",
            "Epoch 33/50\n",
            "32/32 [==============================] - 0s 10ms/step - loss: 0.8211 - accuracy: 0.7380 - val_loss: 1.0020 - val_accuracy: 0.6700\n",
            "Epoch 34/50\n",
            "32/32 [==============================] - 0s 10ms/step - loss: 0.8170 - accuracy: 0.7420 - val_loss: 1.0007 - val_accuracy: 0.6680\n",
            "Epoch 35/50\n",
            "32/32 [==============================] - 0s 11ms/step - loss: 0.8141 - accuracy: 0.7360 - val_loss: 0.9984 - val_accuracy: 0.6710\n",
            "Epoch 36/50\n",
            "32/32 [==============================] - 0s 10ms/step - loss: 0.8104 - accuracy: 0.7430 - val_loss: 0.9968 - val_accuracy: 0.6710\n",
            "Epoch 37/50\n",
            "32/32 [==============================] - 0s 10ms/step - loss: 0.8068 - accuracy: 0.7450 - val_loss: 0.9943 - val_accuracy: 0.6700\n",
            "Epoch 38/50\n",
            "32/32 [==============================] - 0s 10ms/step - loss: 0.8038 - accuracy: 0.7440 - val_loss: 0.9928 - val_accuracy: 0.6700\n",
            "Epoch 39/50\n",
            "32/32 [==============================] - 0s 9ms/step - loss: 0.8000 - accuracy: 0.7470 - val_loss: 0.9919 - val_accuracy: 0.6700\n",
            "Epoch 40/50\n",
            "32/32 [==============================] - 0s 10ms/step - loss: 0.7987 - accuracy: 0.7460 - val_loss: 0.9885 - val_accuracy: 0.6710\n",
            "Epoch 41/50\n",
            "32/32 [==============================] - 0s 10ms/step - loss: 0.7956 - accuracy: 0.7460 - val_loss: 0.9875 - val_accuracy: 0.6640\n",
            "Epoch 42/50\n",
            "32/32 [==============================] - 0s 9ms/step - loss: 0.7942 - accuracy: 0.7470 - val_loss: 0.9871 - val_accuracy: 0.6660\n",
            "Epoch 43/50\n",
            "32/32 [==============================] - 0s 10ms/step - loss: 0.7913 - accuracy: 0.7460 - val_loss: 0.9853 - val_accuracy: 0.6690\n",
            "Epoch 44/50\n",
            "32/32 [==============================] - 0s 10ms/step - loss: 0.7898 - accuracy: 0.7490 - val_loss: 0.9825 - val_accuracy: 0.6690\n",
            "Epoch 45/50\n",
            "32/32 [==============================] - 0s 9ms/step - loss: 0.7902 - accuracy: 0.7460 - val_loss: 0.9821 - val_accuracy: 0.6700\n",
            "Epoch 46/50\n",
            "32/32 [==============================] - 0s 9ms/step - loss: 0.7864 - accuracy: 0.7480 - val_loss: 0.9821 - val_accuracy: 0.6700\n",
            "Epoch 47/50\n",
            "32/32 [==============================] - 0s 10ms/step - loss: 0.7851 - accuracy: 0.7480 - val_loss: 0.9797 - val_accuracy: 0.6700\n",
            "Epoch 48/50\n",
            "32/32 [==============================] - 0s 11ms/step - loss: 0.7832 - accuracy: 0.7430 - val_loss: 0.9793 - val_accuracy: 0.6680\n",
            "Epoch 49/50\n",
            "32/32 [==============================] - 0s 10ms/step - loss: 0.7829 - accuracy: 0.7510 - val_loss: 0.9784 - val_accuracy: 0.6700\n",
            "Epoch 50/50\n",
            "32/32 [==============================] - 0s 9ms/step - loss: 0.7815 - accuracy: 0.7460 - val_loss: 0.9786 - val_accuracy: 0.6690\n"
          ]
        }
      ]
    },
    {
      "cell_type": "code",
      "source": [
        "plt.plot(history.history[\"accuracy\"],label=\"accuracy\")\n",
        "plt.plot(history.history[\"val_accuracy\"],label=\"val_accuracy\")\n",
        "plt.legend()\n",
        "plt.show()"
      ],
      "metadata": {
        "colab": {
          "base_uri": "https://localhost:8080/",
          "height": 265
        },
        "id": "KBD-RlU7RnZV",
        "outputId": "89d3efa4-0384-44e0-c126-fa52a22329c8"
      },
      "execution_count": null,
      "outputs": [
        {
          "output_type": "display_data",
          "data": {
            "text/plain": [
              "<Figure size 432x288 with 1 Axes>"
            ],
            "image/png": "[encoded data removed]"
          },
          "metadata": {
            "needs_background": "light"
          }
        }
      ]
    },
    {
      "cell_type": "code",
      "source": [
        "plt.plot(history.history[\"loss\"],label=\"loss\")\n",
        "plt.plot(history.history[\"val_loss\"],label=\"loss\")\n",
        "plt.legend()\n",
        "plt.show()"
      ],
      "metadata": {
        "colab": {
          "base_uri": "https://localhost:8080/",
          "height": 265
        },
        "id": "yymJQFlhRumM",
        "outputId": "38e86ce0-bcae-4369-b9e9-cefd6eef76bb"
      },
      "execution_count": null,
      "outputs": [
        {
          "output_type": "display_data",
          "data": {
            "text/plain": [
              "<Figure size 432x288 with 1 Axes>"
            ],
            "image/png": "[encoded data removed]"
          },
          "metadata": {
            "needs_background": "light"
          }
        }
      ]
    },
    {
      "cell_type": "code",
      "source": [
        "i=np.random.choice(len(train_first_sen_story))\n",
        "z=model.predict([train_stories[i:i+1],train_seq_questions[i:i+1]])\n",
        "idx=np.argmax( z[0,:])\n",
        "print(train_first_sen_story[i])\n",
        "print(train_second_sen_story[i])\n",
        "print(train_questions[i])\n",
        "answers_tokenizer.index_word[idx]"
      ],
      "metadata": {
        "colab": {
          "base_uri": "https://localhost:8080/",
          "height": 125
        },
        "id": "vIQRIiaBRx7i",
        "outputId": "89c81b44-0ea6-40cd-89ba-63515f8cd347"
      },
      "execution_count": null,
      "outputs": [
        {
          "output_type": "stream",
          "name": "stdout",
          "text": [
            "Daniel moved to the bathroom.\n",
            "\n",
            "Mary journeyed to the garden.\n",
            "\n",
            "Where is Daniel? \n"
          ]
        },
        {
          "output_type": "execute_result",
          "data": {
            "text/plain": [
              "'bathroom'"
            ],
            "application/vnd.google.colaboratory.intrinsic+json": {
              "type": "string"
            }
          },
          "metadata": {},
          "execution_count": 23
        }
      ]
    },
    {
      "cell_type": "code",
      "source": [
        ""
      ],
      "metadata": {
        "id": "0p_p_nJCR1OX"
      },
      "execution_count": null,
      "outputs": []
    }
  ]
}